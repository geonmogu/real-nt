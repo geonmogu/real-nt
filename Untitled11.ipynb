{
  "nbformat": 4,
  "nbformat_minor": 0,
  "metadata": {
    "colab": {
      "name": "Untitled11.ipynb",
      "provenance": [],
      "authorship_tag": "ABX9TyMsQF9ucw3glyt5xnkCbyi2",
      "include_colab_link": true
    },
    "kernelspec": {
      "name": "python3",
      "display_name": "Python 3"
    },
    "language_info": {
      "name": "python"
    }
  },
  "cells": [
    {
      "cell_type": "markdown",
      "metadata": {
        "id": "view-in-github",
        "colab_type": "text"
      },
      "source": [
        "<a href=\"https://colab.research.google.com/github/geonmogu/real-nt/blob/main/Untitled11.ipynb\" target=\"_parent\"><img src=\"https://colab.research.google.com/assets/colab-badge.svg\" alt=\"Open In Colab\"/></a>"
      ]
    },
    {
      "cell_type": "code",
      "execution_count": 1,
      "metadata": {
        "id": "-02DzsgnJdgN"
      },
      "outputs": [],
      "source": [
        "#2022학년도 1학년 1학기 프로그래밍(파이썬) 수행평가\n",
        "#한양공업고등학교 1학년 11반 2번 이름:구건모"
      ]
    },
    {
      "cell_type": "code",
      "source": [
        "#1.\n",
        "삼성전자=50000"
      ],
      "metadata": {
        "id": "nUJX1MJhM7Id"
      },
      "execution_count": 3,
      "outputs": []
    },
    {
      "cell_type": "code",
      "source": [
        "print(삼성전자*10)"
      ],
      "metadata": {
        "colab": {
          "base_uri": "https://localhost:8080/"
        },
        "id": "MuT2NzsXNJeD",
        "outputId": "b871660a-e0a1-4994-c656-a984fca07fbb"
      },
      "execution_count": 5,
      "outputs": [
        {
          "output_type": "stream",
          "name": "stdout",
          "text": [
            "500000\n"
          ]
        }
      ]
    },
    {
      "cell_type": "code",
      "source": [
        "#2.\n",
        "year=[\"2022\",\"2021\",\"2020\"]\n",
        "print(int(year[0]),(year[1]),(year[2]))"
      ],
      "metadata": {
        "colab": {
          "base_uri": "https://localhost:8080/"
        },
        "id": "H8TzmborNRoB",
        "outputId": "b7cd66d9-0b9c-49f9-e6cb-f8b47809d1fa"
      },
      "execution_count": 93,
      "outputs": [
        {
          "output_type": "stream",
          "name": "stdout",
          "text": [
            "2022 2021 2020\n"
          ]
        }
      ]
    },
    {
      "cell_type": "code",
      "source": [
        "#3\n",
        "string = \"홀짝홀짝홀짝\""
      ],
      "metadata": {
        "id": "gKXzPJWxOp-w"
      },
      "execution_count": 96,
      "outputs": []
    },
    {
      "cell_type": "code",
      "source": [
        "print(0:5:1)"
      ],
      "metadata": {
        "colab": {
          "base_uri": "https://localhost:8080/",
          "height": 132
        },
        "id": "5pm_Au-UPUSc",
        "outputId": "1495991a-86d8-4d9d-809e-1d470b4b44d9"
      },
      "execution_count": 109,
      "outputs": [
        {
          "output_type": "error",
          "ename": "SyntaxError",
          "evalue": "ignored",
          "traceback": [
            "\u001b[0;36m  File \u001b[0;32m\"<ipython-input-109-6b9ab511c8a2>\"\u001b[0;36m, line \u001b[0;32m1\u001b[0m\n\u001b[0;31m    print(0:5:1)\u001b[0m\n\u001b[0m           ^\u001b[0m\n\u001b[0;31mSyntaxError\u001b[0m\u001b[0;31m:\u001b[0m invalid syntax\n"
          ]
        }
      ]
    },
    {
      "cell_type": "code",
      "source": [
        "#4\n",
        "string=\"PYTHON\""
      ],
      "metadata": {
        "id": "PWxtcASrPnYp"
      },
      "execution_count": 98,
      "outputs": []
    },
    {
      "cell_type": "code",
      "source": [
        "print(string[-1],string[-2],string[-3],string[-4],string[-5],string[-6],sep='')"
      ],
      "metadata": {
        "colab": {
          "base_uri": "https://localhost:8080/"
        },
        "id": "lQWIPnMoP2Pc",
        "outputId": "ef32abbf-e777-400c-976e-8f19590ce013"
      },
      "execution_count": 99,
      "outputs": [
        {
          "output_type": "stream",
          "name": "stdout",
          "text": [
            "NOHTYP\n"
          ]
        }
      ]
    },
    {
      "cell_type": "code",
      "source": [
        "#5\n",
        "movie_rank=['닥터 스트레인지','스플릿','럭키','배트맨']"
      ],
      "metadata": {
        "id": "R4o50y4LQGeM"
      },
      "execution_count": 100,
      "outputs": []
    },
    {
      "cell_type": "code",
      "source": [
        "movie_rank.insert(1,\"슈퍼맨\")"
      ],
      "metadata": {
        "id": "WpgRQ9TXRTwP"
      },
      "execution_count": 101,
      "outputs": []
    },
    {
      "cell_type": "code",
      "source": [
        "movie_rank"
      ],
      "metadata": {
        "colab": {
          "base_uri": "https://localhost:8080/"
        },
        "id": "tRm-9n3yRa1X",
        "outputId": "dfe41fa5-69a7-4864-c7d5-5e30cde18296"
      },
      "execution_count": 102,
      "outputs": [
        {
          "output_type": "execute_result",
          "data": {
            "text/plain": [
              "['닥터 스트레인지', '슈퍼맨', '스플릿', '럭키', '배트맨']"
            ]
          },
          "metadata": {},
          "execution_count": 102
        }
      ]
    },
    {
      "cell_type": "code",
      "source": [
        "#6.\n",
        "nums=[1,2,3,4,5,6,7,8,9,10]\n",
        "nums[0:10:2]"
      ],
      "metadata": {
        "colab": {
          "base_uri": "https://localhost:8080/"
        },
        "id": "UhwPGG1CRdYK",
        "outputId": "0a9b6d72-abbe-437b-9179-d821a1ed483b"
      },
      "execution_count": 103,
      "outputs": [
        {
          "output_type": "execute_result",
          "data": {
            "text/plain": [
              "[1, 3, 5, 7, 9]"
            ]
          },
          "metadata": {},
          "execution_count": 103
        }
      ]
    },
    {
      "cell_type": "code",
      "source": [
        "#7.\n",
        "data=[2,4,3,1,5,10,9]\n",
        "sorted(data)"
      ],
      "metadata": {
        "colab": {
          "base_uri": "https://localhost:8080/"
        },
        "id": "xHn038-VVyQR",
        "outputId": "b49d4d5d-814c-4010-a61c-e0e7e309ce92"
      },
      "execution_count": 104,
      "outputs": [
        {
          "output_type": "execute_result",
          "data": {
            "text/plain": [
              "[1, 2, 3, 4, 5, 9, 10]"
            ]
          },
          "metadata": {},
          "execution_count": 104
        }
      ]
    },
    {
      "cell_type": "code",
      "source": [
        "#8.\n",
        "name1=\"김민수\"\n",
        "age1=10\n",
        "name2=\"이철희\"\n",
        "age2=13"
      ],
      "metadata": {
        "id": "Z76amr90WpZR"
      },
      "execution_count": 105,
      "outputs": []
    },
    {
      "cell_type": "code",
      "source": [
        "s=\"이름:{} 나이:{} 이름:{} 나이:{}\""
      ],
      "metadata": {
        "id": "NyjMkvfzZp_R"
      },
      "execution_count": 106,
      "outputs": []
    },
    {
      "cell_type": "code",
      "source": [
        "s.format(name1,age1,name2,age2)"
      ],
      "metadata": {
        "colab": {
          "base_uri": "https://localhost:8080/",
          "height": 35
        },
        "id": "jkvAqNXtaJxS",
        "outputId": "aba34cbb-541b-43e9-ce9a-9982c2326000"
      },
      "execution_count": 107,
      "outputs": [
        {
          "output_type": "execute_result",
          "data": {
            "text/plain": [
              "'이름:김민수 나이:10 이름:이철희 나이:13'"
            ],
            "application/vnd.google.colaboratory.intrinsic+json": {
              "type": "string"
            }
          },
          "metadata": {},
          "execution_count": 107
        }
      ]
    },
    {
      "cell_type": "code",
      "source": [
        ""
      ],
      "metadata": {
        "id": "g1VBP3yVaSMY"
      },
      "execution_count": null,
      "outputs": []
    }
  ]
}